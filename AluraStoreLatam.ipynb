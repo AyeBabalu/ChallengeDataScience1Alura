{
  "nbformat": 4,
  "nbformat_minor": 0,
  "metadata": {
    "colab": {
      "provenance": []
    },
    "kernelspec": {
      "name": "python3",
      "display_name": "Python 3"
    },
    "language_info": {
      "name": "python"
    }
  },
  "cells": [
    {
      "cell_type": "markdown",
      "source": [
        "### Importación de datos\n",
        "\n"
      ],
      "metadata": {
        "id": "RhEdWd9YUR6H"
      }
    },
    {
      "cell_type": "code",
      "execution_count": 1,
      "metadata": {
        "colab": {
          "base_uri": "https://localhost:8080/",
          "height": 310
        },
        "id": "T3EvaeQ_INIL",
        "outputId": "bdfca733-d09e-4be8-d73a-2ebcfa47a6b0"
      },
      "outputs": [
        {
          "output_type": "execute_result",
          "data": {
            "text/plain": [
              "            Producto Categoría del Producto    Precio  Costo de envío  \\\n",
              "0  Asistente virtual           Electrónicos  164300.0          6900.0   \n",
              "1    Mesa de comedor                Muebles  192300.0          8400.0   \n",
              "2      Juego de mesa               Juguetes  209600.0         15900.0   \n",
              "3         Microondas      Electrodomésticos  757500.0         41000.0   \n",
              "4   Silla de oficina                Muebles  335200.0         20200.0   \n",
              "\n",
              "  Fecha de Compra         Vendedor Lugar de Compra  Calificación  \\\n",
              "0      16/01/2021      Pedro Gomez          Bogotá             4   \n",
              "1      18/05/2022  Beatriz Morales        Medellín             1   \n",
              "2      15/03/2021   Juan Fernandez       Cartagena             1   \n",
              "3      03/05/2022   Juan Fernandez            Cali             4   \n",
              "4      07/11/2020    Maria Alfonso        Medellín             5   \n",
              "\n",
              "       Método de pago  Cantidad de cuotas       lat       lon  \n",
              "0  Tarjeta de crédito                   8   4.60971 -74.08175  \n",
              "1  Tarjeta de crédito                   4   6.25184 -75.56359  \n",
              "2  Tarjeta de crédito                   1  10.39972 -75.51444  \n",
              "3               Nequi                   1   3.43722 -76.52250  \n",
              "4               Nequi                   1   6.25184 -75.56359  "
            ],
            "text/html": [
              "\n",
              "  <div id=\"df-9acf766d-52f7-4ff5-9800-0d13679d79fd\" class=\"colab-df-container\">\n",
              "    <div>\n",
              "<style scoped>\n",
              "    .dataframe tbody tr th:only-of-type {\n",
              "        vertical-align: middle;\n",
              "    }\n",
              "\n",
              "    .dataframe tbody tr th {\n",
              "        vertical-align: top;\n",
              "    }\n",
              "\n",
              "    .dataframe thead th {\n",
              "        text-align: right;\n",
              "    }\n",
              "</style>\n",
              "<table border=\"1\" class=\"dataframe\">\n",
              "  <thead>\n",
              "    <tr style=\"text-align: right;\">\n",
              "      <th></th>\n",
              "      <th>Producto</th>\n",
              "      <th>Categoría del Producto</th>\n",
              "      <th>Precio</th>\n",
              "      <th>Costo de envío</th>\n",
              "      <th>Fecha de Compra</th>\n",
              "      <th>Vendedor</th>\n",
              "      <th>Lugar de Compra</th>\n",
              "      <th>Calificación</th>\n",
              "      <th>Método de pago</th>\n",
              "      <th>Cantidad de cuotas</th>\n",
              "      <th>lat</th>\n",
              "      <th>lon</th>\n",
              "    </tr>\n",
              "  </thead>\n",
              "  <tbody>\n",
              "    <tr>\n",
              "      <th>0</th>\n",
              "      <td>Asistente virtual</td>\n",
              "      <td>Electrónicos</td>\n",
              "      <td>164300.0</td>\n",
              "      <td>6900.0</td>\n",
              "      <td>16/01/2021</td>\n",
              "      <td>Pedro Gomez</td>\n",
              "      <td>Bogotá</td>\n",
              "      <td>4</td>\n",
              "      <td>Tarjeta de crédito</td>\n",
              "      <td>8</td>\n",
              "      <td>4.60971</td>\n",
              "      <td>-74.08175</td>\n",
              "    </tr>\n",
              "    <tr>\n",
              "      <th>1</th>\n",
              "      <td>Mesa de comedor</td>\n",
              "      <td>Muebles</td>\n",
              "      <td>192300.0</td>\n",
              "      <td>8400.0</td>\n",
              "      <td>18/05/2022</td>\n",
              "      <td>Beatriz Morales</td>\n",
              "      <td>Medellín</td>\n",
              "      <td>1</td>\n",
              "      <td>Tarjeta de crédito</td>\n",
              "      <td>4</td>\n",
              "      <td>6.25184</td>\n",
              "      <td>-75.56359</td>\n",
              "    </tr>\n",
              "    <tr>\n",
              "      <th>2</th>\n",
              "      <td>Juego de mesa</td>\n",
              "      <td>Juguetes</td>\n",
              "      <td>209600.0</td>\n",
              "      <td>15900.0</td>\n",
              "      <td>15/03/2021</td>\n",
              "      <td>Juan Fernandez</td>\n",
              "      <td>Cartagena</td>\n",
              "      <td>1</td>\n",
              "      <td>Tarjeta de crédito</td>\n",
              "      <td>1</td>\n",
              "      <td>10.39972</td>\n",
              "      <td>-75.51444</td>\n",
              "    </tr>\n",
              "    <tr>\n",
              "      <th>3</th>\n",
              "      <td>Microondas</td>\n",
              "      <td>Electrodomésticos</td>\n",
              "      <td>757500.0</td>\n",
              "      <td>41000.0</td>\n",
              "      <td>03/05/2022</td>\n",
              "      <td>Juan Fernandez</td>\n",
              "      <td>Cali</td>\n",
              "      <td>4</td>\n",
              "      <td>Nequi</td>\n",
              "      <td>1</td>\n",
              "      <td>3.43722</td>\n",
              "      <td>-76.52250</td>\n",
              "    </tr>\n",
              "    <tr>\n",
              "      <th>4</th>\n",
              "      <td>Silla de oficina</td>\n",
              "      <td>Muebles</td>\n",
              "      <td>335200.0</td>\n",
              "      <td>20200.0</td>\n",
              "      <td>07/11/2020</td>\n",
              "      <td>Maria Alfonso</td>\n",
              "      <td>Medellín</td>\n",
              "      <td>5</td>\n",
              "      <td>Nequi</td>\n",
              "      <td>1</td>\n",
              "      <td>6.25184</td>\n",
              "      <td>-75.56359</td>\n",
              "    </tr>\n",
              "  </tbody>\n",
              "</table>\n",
              "</div>\n",
              "    <div class=\"colab-df-buttons\">\n",
              "\n",
              "  <div class=\"colab-df-container\">\n",
              "    <button class=\"colab-df-convert\" onclick=\"convertToInteractive('df-9acf766d-52f7-4ff5-9800-0d13679d79fd')\"\n",
              "            title=\"Convert this dataframe to an interactive table.\"\n",
              "            style=\"display:none;\">\n",
              "\n",
              "  <svg xmlns=\"http://www.w3.org/2000/svg\" height=\"24px\" viewBox=\"0 -960 960 960\">\n",
              "    <path d=\"M120-120v-720h720v720H120Zm60-500h600v-160H180v160Zm220 220h160v-160H400v160Zm0 220h160v-160H400v160ZM180-400h160v-160H180v160Zm440 0h160v-160H620v160ZM180-180h160v-160H180v160Zm440 0h160v-160H620v160Z\"/>\n",
              "  </svg>\n",
              "    </button>\n",
              "\n",
              "  <style>\n",
              "    .colab-df-container {\n",
              "      display:flex;\n",
              "      gap: 12px;\n",
              "    }\n",
              "\n",
              "    .colab-df-convert {\n",
              "      background-color: #E8F0FE;\n",
              "      border: none;\n",
              "      border-radius: 50%;\n",
              "      cursor: pointer;\n",
              "      display: none;\n",
              "      fill: #1967D2;\n",
              "      height: 32px;\n",
              "      padding: 0 0 0 0;\n",
              "      width: 32px;\n",
              "    }\n",
              "\n",
              "    .colab-df-convert:hover {\n",
              "      background-color: #E2EBFA;\n",
              "      box-shadow: 0px 1px 2px rgba(60, 64, 67, 0.3), 0px 1px 3px 1px rgba(60, 64, 67, 0.15);\n",
              "      fill: #174EA6;\n",
              "    }\n",
              "\n",
              "    .colab-df-buttons div {\n",
              "      margin-bottom: 4px;\n",
              "    }\n",
              "\n",
              "    [theme=dark] .colab-df-convert {\n",
              "      background-color: #3B4455;\n",
              "      fill: #D2E3FC;\n",
              "    }\n",
              "\n",
              "    [theme=dark] .colab-df-convert:hover {\n",
              "      background-color: #434B5C;\n",
              "      box-shadow: 0px 1px 3px 1px rgba(0, 0, 0, 0.15);\n",
              "      filter: drop-shadow(0px 1px 2px rgba(0, 0, 0, 0.3));\n",
              "      fill: #FFFFFF;\n",
              "    }\n",
              "  </style>\n",
              "\n",
              "    <script>\n",
              "      const buttonEl =\n",
              "        document.querySelector('#df-9acf766d-52f7-4ff5-9800-0d13679d79fd button.colab-df-convert');\n",
              "      buttonEl.style.display =\n",
              "        google.colab.kernel.accessAllowed ? 'block' : 'none';\n",
              "\n",
              "      async function convertToInteractive(key) {\n",
              "        const element = document.querySelector('#df-9acf766d-52f7-4ff5-9800-0d13679d79fd');\n",
              "        const dataTable =\n",
              "          await google.colab.kernel.invokeFunction('convertToInteractive',\n",
              "                                                    [key], {});\n",
              "        if (!dataTable) return;\n",
              "\n",
              "        const docLinkHtml = 'Like what you see? Visit the ' +\n",
              "          '<a target=\"_blank\" href=https://colab.research.google.com/notebooks/data_table.ipynb>data table notebook</a>'\n",
              "          + ' to learn more about interactive tables.';\n",
              "        element.innerHTML = '';\n",
              "        dataTable['output_type'] = 'display_data';\n",
              "        await google.colab.output.renderOutput(dataTable, element);\n",
              "        const docLink = document.createElement('div');\n",
              "        docLink.innerHTML = docLinkHtml;\n",
              "        element.appendChild(docLink);\n",
              "      }\n",
              "    </script>\n",
              "  </div>\n",
              "\n",
              "\n",
              "    <div id=\"df-dd7c7f70-452b-4485-8cfe-87b0bac5d0e8\">\n",
              "      <button class=\"colab-df-quickchart\" onclick=\"quickchart('df-dd7c7f70-452b-4485-8cfe-87b0bac5d0e8')\"\n",
              "                title=\"Suggest charts\"\n",
              "                style=\"display:none;\">\n",
              "\n",
              "<svg xmlns=\"http://www.w3.org/2000/svg\" height=\"24px\"viewBox=\"0 0 24 24\"\n",
              "     width=\"24px\">\n",
              "    <g>\n",
              "        <path d=\"M19 3H5c-1.1 0-2 .9-2 2v14c0 1.1.9 2 2 2h14c1.1 0 2-.9 2-2V5c0-1.1-.9-2-2-2zM9 17H7v-7h2v7zm4 0h-2V7h2v10zm4 0h-2v-4h2v4z\"/>\n",
              "    </g>\n",
              "</svg>\n",
              "      </button>\n",
              "\n",
              "<style>\n",
              "  .colab-df-quickchart {\n",
              "      --bg-color: #E8F0FE;\n",
              "      --fill-color: #1967D2;\n",
              "      --hover-bg-color: #E2EBFA;\n",
              "      --hover-fill-color: #174EA6;\n",
              "      --disabled-fill-color: #AAA;\n",
              "      --disabled-bg-color: #DDD;\n",
              "  }\n",
              "\n",
              "  [theme=dark] .colab-df-quickchart {\n",
              "      --bg-color: #3B4455;\n",
              "      --fill-color: #D2E3FC;\n",
              "      --hover-bg-color: #434B5C;\n",
              "      --hover-fill-color: #FFFFFF;\n",
              "      --disabled-bg-color: #3B4455;\n",
              "      --disabled-fill-color: #666;\n",
              "  }\n",
              "\n",
              "  .colab-df-quickchart {\n",
              "    background-color: var(--bg-color);\n",
              "    border: none;\n",
              "    border-radius: 50%;\n",
              "    cursor: pointer;\n",
              "    display: none;\n",
              "    fill: var(--fill-color);\n",
              "    height: 32px;\n",
              "    padding: 0;\n",
              "    width: 32px;\n",
              "  }\n",
              "\n",
              "  .colab-df-quickchart:hover {\n",
              "    background-color: var(--hover-bg-color);\n",
              "    box-shadow: 0 1px 2px rgba(60, 64, 67, 0.3), 0 1px 3px 1px rgba(60, 64, 67, 0.15);\n",
              "    fill: var(--button-hover-fill-color);\n",
              "  }\n",
              "\n",
              "  .colab-df-quickchart-complete:disabled,\n",
              "  .colab-df-quickchart-complete:disabled:hover {\n",
              "    background-color: var(--disabled-bg-color);\n",
              "    fill: var(--disabled-fill-color);\n",
              "    box-shadow: none;\n",
              "  }\n",
              "\n",
              "  .colab-df-spinner {\n",
              "    border: 2px solid var(--fill-color);\n",
              "    border-color: transparent;\n",
              "    border-bottom-color: var(--fill-color);\n",
              "    animation:\n",
              "      spin 1s steps(1) infinite;\n",
              "  }\n",
              "\n",
              "  @keyframes spin {\n",
              "    0% {\n",
              "      border-color: transparent;\n",
              "      border-bottom-color: var(--fill-color);\n",
              "      border-left-color: var(--fill-color);\n",
              "    }\n",
              "    20% {\n",
              "      border-color: transparent;\n",
              "      border-left-color: var(--fill-color);\n",
              "      border-top-color: var(--fill-color);\n",
              "    }\n",
              "    30% {\n",
              "      border-color: transparent;\n",
              "      border-left-color: var(--fill-color);\n",
              "      border-top-color: var(--fill-color);\n",
              "      border-right-color: var(--fill-color);\n",
              "    }\n",
              "    40% {\n",
              "      border-color: transparent;\n",
              "      border-right-color: var(--fill-color);\n",
              "      border-top-color: var(--fill-color);\n",
              "    }\n",
              "    60% {\n",
              "      border-color: transparent;\n",
              "      border-right-color: var(--fill-color);\n",
              "    }\n",
              "    80% {\n",
              "      border-color: transparent;\n",
              "      border-right-color: var(--fill-color);\n",
              "      border-bottom-color: var(--fill-color);\n",
              "    }\n",
              "    90% {\n",
              "      border-color: transparent;\n",
              "      border-bottom-color: var(--fill-color);\n",
              "    }\n",
              "  }\n",
              "</style>\n",
              "\n",
              "      <script>\n",
              "        async function quickchart(key) {\n",
              "          const quickchartButtonEl =\n",
              "            document.querySelector('#' + key + ' button');\n",
              "          quickchartButtonEl.disabled = true;  // To prevent multiple clicks.\n",
              "          quickchartButtonEl.classList.add('colab-df-spinner');\n",
              "          try {\n",
              "            const charts = await google.colab.kernel.invokeFunction(\n",
              "                'suggestCharts', [key], {});\n",
              "          } catch (error) {\n",
              "            console.error('Error during call to suggestCharts:', error);\n",
              "          }\n",
              "          quickchartButtonEl.classList.remove('colab-df-spinner');\n",
              "          quickchartButtonEl.classList.add('colab-df-quickchart-complete');\n",
              "        }\n",
              "        (() => {\n",
              "          let quickchartButtonEl =\n",
              "            document.querySelector('#df-dd7c7f70-452b-4485-8cfe-87b0bac5d0e8 button');\n",
              "          quickchartButtonEl.style.display =\n",
              "            google.colab.kernel.accessAllowed ? 'block' : 'none';\n",
              "        })();\n",
              "      </script>\n",
              "    </div>\n",
              "\n",
              "    </div>\n",
              "  </div>\n"
            ],
            "application/vnd.google.colaboratory.intrinsic+json": {
              "type": "dataframe",
              "variable_name": "tienda",
              "summary": "{\n  \"name\": \"tienda\",\n  \"rows\": 2359,\n  \"fields\": [\n    {\n      \"column\": \"Producto\",\n      \"properties\": {\n        \"dtype\": \"category\",\n        \"num_unique_values\": 51,\n        \"samples\": [\n          \"Guitarra ac\\u00fastica\",\n          \"Bal\\u00f3n de baloncesto\",\n          \"Smartwatch\"\n        ],\n        \"semantic_type\": \"\",\n        \"description\": \"\"\n      }\n    },\n    {\n      \"column\": \"Categor\\u00eda del Producto\",\n      \"properties\": {\n        \"dtype\": \"category\",\n        \"num_unique_values\": 8,\n        \"samples\": [\n          \"Muebles\",\n          \"Deportes y diversi\\u00f3n\",\n          \"Electr\\u00f3nicos\"\n        ],\n        \"semantic_type\": \"\",\n        \"description\": \"\"\n      }\n    },\n    {\n      \"column\": \"Precio\",\n      \"properties\": {\n        \"dtype\": \"number\",\n        \"std\": 614686.7653873172,\n        \"min\": 7600.0,\n        \"max\": 2977000.0,\n        \"num_unique_values\": 1937,\n        \"samples\": [\n          2499400.0,\n          14800.0,\n          80500.0\n        ],\n        \"semantic_type\": \"\",\n        \"description\": \"\"\n      }\n    },\n    {\n      \"column\": \"Costo de env\\u00edo\",\n      \"properties\": {\n        \"dtype\": \"number\",\n        \"std\": 32860.0017825605,\n        \"min\": 0.0,\n        \"max\": 160800.0,\n        \"num_unique_values\": 753,\n        \"samples\": [\n          117800.0,\n          54700.0,\n          45600.0\n        ],\n        \"semantic_type\": \"\",\n        \"description\": \"\"\n      }\n    },\n    {\n      \"column\": \"Fecha de Compra\",\n      \"properties\": {\n        \"dtype\": \"object\",\n        \"num_unique_values\": 1018,\n        \"samples\": [\n          \"15/09/2022\",\n          \"03/06/2020\",\n          \"06/11/2021\"\n        ],\n        \"semantic_type\": \"\",\n        \"description\": \"\"\n      }\n    },\n    {\n      \"column\": \"Vendedor\",\n      \"properties\": {\n        \"dtype\": \"category\",\n        \"num_unique_values\": 14,\n        \"samples\": [\n          \"Juliana Costa\",\n          \"Mariana Herrera\",\n          \"Pedro Gomez\"\n        ],\n        \"semantic_type\": \"\",\n        \"description\": \"\"\n      }\n    },\n    {\n      \"column\": \"Lugar de Compra\",\n      \"properties\": {\n        \"dtype\": \"category\",\n        \"num_unique_values\": 19,\n        \"samples\": [\n          \"Bogot\\u00e1\",\n          \"Pereira\",\n          \"Neiva\"\n        ],\n        \"semantic_type\": \"\",\n        \"description\": \"\"\n      }\n    },\n    {\n      \"column\": \"Calificaci\\u00f3n\",\n      \"properties\": {\n        \"dtype\": \"number\",\n        \"std\": 1,\n        \"min\": 1,\n        \"max\": 5,\n        \"num_unique_values\": 5,\n        \"samples\": [\n          1,\n          2,\n          5\n        ],\n        \"semantic_type\": \"\",\n        \"description\": \"\"\n      }\n    },\n    {\n      \"column\": \"M\\u00e9todo de pago\",\n      \"properties\": {\n        \"dtype\": \"category\",\n        \"num_unique_values\": 4,\n        \"samples\": [\n          \"Nequi\",\n          \"Tarjeta de d\\u00e9bito\",\n          \"Tarjeta de cr\\u00e9dito\"\n        ],\n        \"semantic_type\": \"\",\n        \"description\": \"\"\n      }\n    },\n    {\n      \"column\": \"Cantidad de cuotas\",\n      \"properties\": {\n        \"dtype\": \"number\",\n        \"std\": 2,\n        \"min\": 1,\n        \"max\": 24,\n        \"num_unique_values\": 15,\n        \"samples\": [\n          7,\n          14,\n          8\n        ],\n        \"semantic_type\": \"\",\n        \"description\": \"\"\n      }\n    },\n    {\n      \"column\": \"lat\",\n      \"properties\": {\n        \"dtype\": \"number\",\n        \"std\": 2.2874452492678627,\n        \"min\": -4.21528,\n        \"max\": 11.54444,\n        \"num_unique_values\": 19,\n        \"samples\": [\n          4.60971,\n          4.81333,\n          2.9273\n        ],\n        \"semantic_type\": \"\",\n        \"description\": \"\"\n      }\n    },\n    {\n      \"column\": \"lon\",\n      \"properties\": {\n        \"dtype\": \"number\",\n        \"std\": 1.2178272727088486,\n        \"min\": -77.28111,\n        \"max\": -67.9239,\n        \"num_unique_values\": 19,\n        \"samples\": [\n          -74.08175,\n          -75.69611,\n          -75.28189\n        ],\n        \"semantic_type\": \"\",\n        \"description\": \"\"\n      }\n    }\n  ]\n}"
            }
          },
          "metadata": {},
          "execution_count": 1
        }
      ],
      "source": [
        "import pandas as pd\n",
        "\n",
        "url = \"https://raw.githubusercontent.com/alura-es-cursos/challenge1-data-science-latam/refs/heads/main/base-de-datos-challenge1-latam/tienda_1%20.csv\"\n",
        "url2 = \"https://raw.githubusercontent.com/alura-es-cursos/challenge1-data-science-latam/refs/heads/main/base-de-datos-challenge1-latam/tienda_2.csv\"\n",
        "url3 = \"https://raw.githubusercontent.com/alura-es-cursos/challenge1-data-science-latam/refs/heads/main/base-de-datos-challenge1-latam/tienda_3.csv\"\n",
        "url4 = \"https://raw.githubusercontent.com/alura-es-cursos/challenge1-data-science-latam/refs/heads/main/base-de-datos-challenge1-latam/tienda_4.csv\"\n",
        "\n",
        "tienda = pd.read_csv(url)\n",
        "tienda2 = pd.read_csv(url2)\n",
        "tienda3 = pd.read_csv(url3)\n",
        "tienda4 = pd.read_csv(url4)\n",
        "\n",
        "tienda.head()"
      ]
    },
    {
      "cell_type": "markdown",
      "source": [
        "#1. Análisis de facturación\n",
        "\n"
      ],
      "metadata": {
        "id": "X62IW3KFUIYm"
      }
    },
    {
      "cell_type": "markdown",
      "source": [
        "En esta fase, vamos a calcular la facturación neta de cada una de las cuatro tiendas. La facturación neta representa los ingresos reales generados por las ventas. Para este caso vamos asumir que el costo de envío es un gasto que corre por cuenta de las tiendas, por lo tanto, debemos restarlo del precio de cada producto vendido.\n",
        "\n",
        "Para obtener la facturación neta, sumamos para cada tienda el precio de todos los productos vendidos y restamos el costo total del envío asociado a esas ventas. Es decir, para cada venta se calcula el valor neto como el precio menos el costo de envío, y luego se suman todos estos valores netos para obtener la facturación total neta."
      ],
      "metadata": {
        "id": "VYSXfJz_wg31"
      }
    },
    {
      "cell_type": "code",
      "source": [
        "# Calcular facturación neta para cada tienda (precio - costo de envío)\n",
        "facturacion_tienda1 = (tienda['Precio'] - tienda['Costo de envío']).sum()\n",
        "facturacion_tienda2 = (tienda2['Precio'] - tienda2['Costo de envío']).sum()\n",
        "facturacion_tienda3 = (tienda3['Precio'] - tienda3['Costo de envío']).sum()\n",
        "facturacion_tienda4 = (tienda4['Precio'] - tienda4['Costo de envío']).sum()\n",
        "\n",
        "# Función para formatear los valores en moneda colombiana\n",
        "def formato_cop(valor):\n",
        "    return \"${:,.2f}\".format(valor)\n",
        "\n",
        "# Mostrar resultados formateados\n",
        "print(\"Facturación Neta Tienda 1:\", formato_cop(facturacion_tienda1))\n",
        "print(\"Facturación Neta Tienda 2:\", formato_cop(facturacion_tienda2))\n",
        "print(\"Facturación Neta Tienda 3:\", formato_cop(facturacion_tienda3))\n",
        "print(\"Facturación Neta Tienda 4:\", formato_cop(facturacion_tienda4))\n"
      ],
      "metadata": {
        "id": "KDyr8E71V3m-",
        "colab": {
          "base_uri": "https://localhost:8080/"
        },
        "outputId": "1025d704-1ca5-43c0-a0d7-ab7c44841c13"
      },
      "execution_count": 5,
      "outputs": [
        {
          "output_type": "stream",
          "name": "stdout",
          "text": [
            "Facturación Neta Tienda 1: $1,089,502,500.00\n",
            "Facturación Neta Tienda 2: $1,056,858,400.00\n",
            "Facturación Neta Tienda 3: $1,039,503,000.00\n",
            "Facturación Neta Tienda 4: $983,058,300.00\n"
          ]
        }
      ]
    },
    {
      "cell_type": "markdown",
      "source": [
        "Los resultados muestran que la Tienda 1 tiene la facturación neta más alta, con un total de 1.089.502.500, seguida de cerca por la Tienda 2 con 1.056.858.400, luego la Tienda 3 con 1.039.503.000 y finalmente la Tienda 4 con 983.058.300."
      ],
      "metadata": {
        "id": "iYW_rJwq0rwD"
      }
    },
    {
      "cell_type": "markdown",
      "source": [
        "Ahora calcularemos la facturación bruta de cada tienda, considerando únicamente el valor total de las ventas sin descontar el costo de envío, ya que en este escenario las tiendas no asumen ese gasto."
      ],
      "metadata": {
        "id": "wCHz0WoE4vzS"
      }
    },
    {
      "cell_type": "code",
      "source": [
        "# Calcular facturación neta para cada tienda (precio - costo de envío)\n",
        "facturacion_tienda1 = (tienda['Precio']).sum()\n",
        "facturacion_tienda2 = (tienda2['Precio']).sum()\n",
        "facturacion_tienda3 = (tienda3['Precio']).sum()\n",
        "facturacion_tienda4 = (tienda4['Precio']).sum()\n",
        "\n",
        "# Función para formatear los valores en moneda colombiana\n",
        "def formato_cop(valor):\n",
        "    return \"${:,.2f}\".format(valor)\n",
        "\n",
        "# Mostrar resultados formateados\n",
        "print(\"Facturación Neta Tienda 1:\", formato_cop(facturacion_tienda1))\n",
        "print(\"Facturación Neta Tienda 2:\", formato_cop(facturacion_tienda2))\n",
        "print(\"Facturación Neta Tienda 3:\", formato_cop(facturacion_tienda3))\n",
        "print(\"Facturación Neta Tienda 4:\", formato_cop(facturacion_tienda4))"
      ],
      "metadata": {
        "id": "9gbsLw8F45Ym",
        "outputId": "58e12f06-ce6a-41e6-ee85-7c764f7090cf",
        "colab": {
          "base_uri": "https://localhost:8080/"
        }
      },
      "execution_count": 13,
      "outputs": [
        {
          "output_type": "stream",
          "name": "stdout",
          "text": [
            "Facturación Neta Tienda 1: $1,150,880,400.00\n",
            "Facturación Neta Tienda 2: $1,116,343,500.00\n",
            "Facturación Neta Tienda 3: $1,098,019,600.00\n",
            "Facturación Neta Tienda 4: $1,038,375,700.00\n"
          ]
        }
      ]
    },
    {
      "cell_type": "markdown",
      "source": [
        "Los resultados muestran que la Tienda 1 tiene la facturación bruta más alta, con un total de 1.150.880.400, seguida de cerca por la Tienda 2 con 1.116.343.500, luego la Tienda 3 con 1.098.019.600 y finalmente la Tienda 4 con 1.038.375.700."
      ],
      "metadata": {
        "id": "VjdfHUyf66wH"
      }
    },
    {
      "cell_type": "markdown",
      "source": [
        "# 2. Ventas por categoría"
      ],
      "metadata": {
        "id": "2V_vcAPzWZmR"
      }
    },
    {
      "cell_type": "markdown",
      "source": [
        "En esta fase vamos a calcular las ventas de cada tienda clasificadas por categoría de producto. Dado que el valor total de cada venta corresponde al precio del producto, vamos a sumar esos valores agrupándolos por la categoría del producto para cada tienda.\n",
        "\n",
        "Para calcular las ventas por categoría, se suman los precios de todos los productos vendidos en cada categoría. Este proceso se repite para cada tienda, agrupando los datos por categoría de producto."
      ],
      "metadata": {
        "id": "6J84iJsz2N2S"
      }
    },
    {
      "cell_type": "code",
      "source": [
        "# Agrupar y sumar las ventas por categoría en cada tienda\n",
        "ventas_tienda1 = tienda.groupby('Categoría del Producto')['Precio'].sum()\n",
        "ventas_tienda2 = tienda2.groupby('Categoría del Producto')['Precio'].sum()\n",
        "ventas_tienda3 = tienda3.groupby('Categoría del Producto')['Precio'].sum()\n",
        "ventas_tienda4 = tienda4.groupby('Categoría del Producto')['Precio'].sum()\n",
        "\n",
        "# Crear el DataFrame con las sumas por categoría y tienda\n",
        "ventas_por_categoria = pd.DataFrame({\n",
        "    'Tienda 1': ventas_tienda1,\n",
        "    'Tienda 2': ventas_tienda2,\n",
        "    'Tienda 3': ventas_tienda3,\n",
        "    'Tienda 4': ventas_tienda4\n",
        "}).fillna(0)\n",
        "\n",
        "ventas_por_categoria.loc['Total'] = ventas_por_categoria.sum()\n",
        "\n",
        "# Mostrar el DataFrame con formato de moneda colombiana\n",
        "ventas_por_categoria.style.format(\"${:,.0f}\")\n",
        "\n"
      ],
      "metadata": {
        "id": "ZNTiS6Lp3cSV",
        "outputId": "f0d9e5bf-d6be-4092-8c23-0ef7cbda434d",
        "colab": {
          "base_uri": "https://localhost:8080/",
          "height": 363
        }
      },
      "execution_count": 11,
      "outputs": [
        {
          "output_type": "execute_result",
          "data": {
            "text/plain": [
              "<pandas.io.formats.style.Styler at 0x79ec95dde8d0>"
            ],
            "text/html": [
              "<style type=\"text/css\">\n",
              "</style>\n",
              "<table id=\"T_84a7f\" class=\"dataframe\">\n",
              "  <thead>\n",
              "    <tr>\n",
              "      <th class=\"blank level0\" >&nbsp;</th>\n",
              "      <th id=\"T_84a7f_level0_col0\" class=\"col_heading level0 col0\" >Tienda 1</th>\n",
              "      <th id=\"T_84a7f_level0_col1\" class=\"col_heading level0 col1\" >Tienda 2</th>\n",
              "      <th id=\"T_84a7f_level0_col2\" class=\"col_heading level0 col2\" >Tienda 3</th>\n",
              "      <th id=\"T_84a7f_level0_col3\" class=\"col_heading level0 col3\" >Tienda 4</th>\n",
              "    </tr>\n",
              "    <tr>\n",
              "      <th class=\"index_name level0\" >Categoría del Producto</th>\n",
              "      <th class=\"blank col0\" >&nbsp;</th>\n",
              "      <th class=\"blank col1\" >&nbsp;</th>\n",
              "      <th class=\"blank col2\" >&nbsp;</th>\n",
              "      <th class=\"blank col3\" >&nbsp;</th>\n",
              "    </tr>\n",
              "  </thead>\n",
              "  <tbody>\n",
              "    <tr>\n",
              "      <th id=\"T_84a7f_level0_row0\" class=\"row_heading level0 row0\" >Artículos para el hogar</th>\n",
              "      <td id=\"T_84a7f_row0_col0\" class=\"data row0 col0\" >$12,698,400</td>\n",
              "      <td id=\"T_84a7f_row0_col1\" class=\"data row0 col1\" >$14,746,900</td>\n",
              "      <td id=\"T_84a7f_row0_col2\" class=\"data row0 col2\" >$15,060,000</td>\n",
              "      <td id=\"T_84a7f_row0_col3\" class=\"data row0 col3\" >$15,074,500</td>\n",
              "    </tr>\n",
              "    <tr>\n",
              "      <th id=\"T_84a7f_level0_row1\" class=\"row_heading level0 row1\" >Deportes y diversión</th>\n",
              "      <td id=\"T_84a7f_row1_col0\" class=\"data row1 col0\" >$39,290,000</td>\n",
              "      <td id=\"T_84a7f_row1_col1\" class=\"data row1 col1\" >$34,744,500</td>\n",
              "      <td id=\"T_84a7f_row1_col2\" class=\"data row1 col2\" >$35,593,100</td>\n",
              "      <td id=\"T_84a7f_row1_col3\" class=\"data row1 col3\" >$33,350,100</td>\n",
              "    </tr>\n",
              "    <tr>\n",
              "      <th id=\"T_84a7f_level0_row2\" class=\"row_heading level0 row2\" >Electrodomésticos</th>\n",
              "      <td id=\"T_84a7f_row2_col0\" class=\"data row2 col0\" >$363,685,200</td>\n",
              "      <td id=\"T_84a7f_row2_col1\" class=\"data row2 col1\" >$348,567,800</td>\n",
              "      <td id=\"T_84a7f_row2_col2\" class=\"data row2 col2\" >$329,237,900</td>\n",
              "      <td id=\"T_84a7f_row2_col3\" class=\"data row2 col3\" >$283,260,200</td>\n",
              "    </tr>\n",
              "    <tr>\n",
              "      <th id=\"T_84a7f_level0_row3\" class=\"row_heading level0 row3\" >Electrónicos</th>\n",
              "      <td id=\"T_84a7f_row3_col0\" class=\"data row3 col0\" >$429,493,500</td>\n",
              "      <td id=\"T_84a7f_row3_col1\" class=\"data row3 col1\" >$410,831,100</td>\n",
              "      <td id=\"T_84a7f_row3_col2\" class=\"data row3 col2\" >$410,775,800</td>\n",
              "      <td id=\"T_84a7f_row3_col3\" class=\"data row3 col3\" >$409,476,100</td>\n",
              "    </tr>\n",
              "    <tr>\n",
              "      <th id=\"T_84a7f_level0_row4\" class=\"row_heading level0 row4\" >Instrumentos musicales</th>\n",
              "      <td id=\"T_84a7f_row4_col0\" class=\"data row4 col0\" >$91,299,000</td>\n",
              "      <td id=\"T_84a7f_row4_col1\" class=\"data row4 col1\" >$104,990,300</td>\n",
              "      <td id=\"T_84a7f_row4_col2\" class=\"data row4 col2\" >$77,380,900</td>\n",
              "      <td id=\"T_84a7f_row4_col3\" class=\"data row4 col3\" >$75,102,400</td>\n",
              "    </tr>\n",
              "    <tr>\n",
              "      <th id=\"T_84a7f_level0_row5\" class=\"row_heading level0 row5\" >Juguetes</th>\n",
              "      <td id=\"T_84a7f_row5_col0\" class=\"data row5 col0\" >$17,995,700</td>\n",
              "      <td id=\"T_84a7f_row5_col1\" class=\"data row5 col1\" >$15,945,400</td>\n",
              "      <td id=\"T_84a7f_row5_col2\" class=\"data row5 col2\" >$19,401,100</td>\n",
              "      <td id=\"T_84a7f_row5_col3\" class=\"data row5 col3\" >$20,262,200</td>\n",
              "    </tr>\n",
              "    <tr>\n",
              "      <th id=\"T_84a7f_level0_row6\" class=\"row_heading level0 row6\" >Libros</th>\n",
              "      <td id=\"T_84a7f_row6_col0\" class=\"data row6 col0\" >$8,784,900</td>\n",
              "      <td id=\"T_84a7f_row6_col1\" class=\"data row6 col1\" >$10,091,200</td>\n",
              "      <td id=\"T_84a7f_row6_col2\" class=\"data row6 col2\" >$9,498,700</td>\n",
              "      <td id=\"T_84a7f_row6_col3\" class=\"data row6 col3\" >$9,321,300</td>\n",
              "    </tr>\n",
              "    <tr>\n",
              "      <th id=\"T_84a7f_level0_row7\" class=\"row_heading level0 row7\" >Muebles</th>\n",
              "      <td id=\"T_84a7f_row7_col0\" class=\"data row7 col0\" >$187,633,700</td>\n",
              "      <td id=\"T_84a7f_row7_col1\" class=\"data row7 col1\" >$176,426,300</td>\n",
              "      <td id=\"T_84a7f_row7_col2\" class=\"data row7 col2\" >$201,072,100</td>\n",
              "      <td id=\"T_84a7f_row7_col3\" class=\"data row7 col3\" >$192,528,900</td>\n",
              "    </tr>\n",
              "    <tr>\n",
              "      <th id=\"T_84a7f_level0_row8\" class=\"row_heading level0 row8\" >Total</th>\n",
              "      <td id=\"T_84a7f_row8_col0\" class=\"data row8 col0\" >$1,150,880,400</td>\n",
              "      <td id=\"T_84a7f_row8_col1\" class=\"data row8 col1\" >$1,116,343,500</td>\n",
              "      <td id=\"T_84a7f_row8_col2\" class=\"data row8 col2\" >$1,098,019,600</td>\n",
              "      <td id=\"T_84a7f_row8_col3\" class=\"data row8 col3\" >$1,038,375,700</td>\n",
              "    </tr>\n",
              "  </tbody>\n",
              "</table>\n"
            ]
          },
          "metadata": {},
          "execution_count": 11
        }
      ]
    },
    {
      "cell_type": "markdown",
      "source": [
        "Los resultados de las ventas muestran que las categorías que generan la mayor facturación en todas las cuatro tiendas son Electrónicos y Electrodomésticos, seguidas por Muebles e Instrumentos musicales. Estas categorías concentran la mayor parte de las ventas, reflejando una fuerte demanda en productos tecnológicos y para el hogar. La categoría más débil en ventas para todas las tiendas es Libros, con la facturación más baja en comparación con las demás categorías."
      ],
      "metadata": {
        "id": "8-7UYNg47oBW"
      }
    },
    {
      "cell_type": "markdown",
      "source": [
        "# 3. Calificación promedio de la tienda\n"
      ],
      "metadata": {
        "id": "Rq6tU_xSY3jk"
      }
    },
    {
      "cell_type": "code",
      "source": [],
      "metadata": {
        "id": "bh3jjjJwY5MU"
      },
      "execution_count": null,
      "outputs": []
    },
    {
      "cell_type": "code",
      "source": [],
      "metadata": {
        "id": "I0KkjPoTY88F"
      },
      "execution_count": null,
      "outputs": []
    },
    {
      "cell_type": "markdown",
      "source": [
        "# 4. Productos más y menos vendidos"
      ],
      "metadata": {
        "id": "DmNp1KPBZCm-"
      }
    },
    {
      "cell_type": "code",
      "source": [],
      "metadata": {
        "id": "qoyjqijQZHfF"
      },
      "execution_count": null,
      "outputs": []
    },
    {
      "cell_type": "code",
      "source": [],
      "metadata": {
        "id": "0Sw3sd4IZIGW"
      },
      "execution_count": null,
      "outputs": []
    },
    {
      "cell_type": "markdown",
      "source": [
        "# 5. Envío promedio por tienda"
      ],
      "metadata": {
        "id": "Fl0cGi3bZKqU"
      }
    },
    {
      "cell_type": "code",
      "source": [],
      "metadata": {
        "id": "S2JeaCykZNy9"
      },
      "execution_count": null,
      "outputs": []
    },
    {
      "cell_type": "code",
      "source": [],
      "metadata": {
        "id": "0tSdCie9ZQlt"
      },
      "execution_count": null,
      "outputs": []
    }
  ]
}